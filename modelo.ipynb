{
 "cells": [
  {
   "cell_type": "code",
   "execution_count": null,
   "metadata": {},
   "outputs": [],
   "source": [
    "import numpy as np\n",
    "import pandas as pd\n",
    "import matplotlib.pyplot as plt\n",
    "from sklearn.feature_extraction.text import TfidfVectorizer\n",
    "from sklearn.feature_extraction.text import CountVectorizer\n",
    "from sklearn.metrics.pairwise import linear_kernel\n",
    "from sklearn.metrics.pairwise import cosine_similarity\n",
    "from ast import literal_eval"
   ]
  },
  {
   "cell_type": "code",
   "execution_count": 2,
   "metadata": {},
   "outputs": [],
   "source": [
    "df = pd.read_csv('movies.csv')\n",
    "\n",
    "# Selecciona las columnas que queremos del df\n",
    "df = df[['title', 'vote_average','overview','vote_count','popularity']]\n",
    "\n",
    "# Guardamos el nuevo dataset en un archivo CSV\n",
    "df.to_csv('moviesml.csv', index=False)"
   ]
  },
  {
   "cell_type": "code",
   "execution_count": 3,
   "metadata": {},
   "outputs": [
    {
     "data": {
      "text/html": [
       "<div>\n",
       "<style scoped>\n",
       "    .dataframe tbody tr th:only-of-type {\n",
       "        vertical-align: middle;\n",
       "    }\n",
       "\n",
       "    .dataframe tbody tr th {\n",
       "        vertical-align: top;\n",
       "    }\n",
       "\n",
       "    .dataframe thead th {\n",
       "        text-align: right;\n",
       "    }\n",
       "</style>\n",
       "<table border=\"1\" class=\"dataframe\">\n",
       "  <thead>\n",
       "    <tr style=\"text-align: right;\">\n",
       "      <th></th>\n",
       "      <th>title</th>\n",
       "      <th>vote_average</th>\n",
       "      <th>overview</th>\n",
       "      <th>vote_count</th>\n",
       "      <th>popularity</th>\n",
       "    </tr>\n",
       "  </thead>\n",
       "  <tbody>\n",
       "    <tr>\n",
       "      <th>0</th>\n",
       "      <td>Toy Story</td>\n",
       "      <td>7.7</td>\n",
       "      <td>Led by Woody, Andy's toys live happily in his ...</td>\n",
       "      <td>5415.0</td>\n",
       "      <td>21.946943</td>\n",
       "    </tr>\n",
       "    <tr>\n",
       "      <th>1</th>\n",
       "      <td>Jumanji</td>\n",
       "      <td>6.9</td>\n",
       "      <td>When siblings Judy and Peter discover an encha...</td>\n",
       "      <td>2413.0</td>\n",
       "      <td>17.015539</td>\n",
       "    </tr>\n",
       "    <tr>\n",
       "      <th>2</th>\n",
       "      <td>Grumpier Old Men</td>\n",
       "      <td>6.5</td>\n",
       "      <td>A family wedding reignites the ancient feud be...</td>\n",
       "      <td>92.0</td>\n",
       "      <td>11.712900</td>\n",
       "    </tr>\n",
       "    <tr>\n",
       "      <th>3</th>\n",
       "      <td>Waiting to Exhale</td>\n",
       "      <td>6.1</td>\n",
       "      <td>Cheated on, mistreated and stepped on, the wom...</td>\n",
       "      <td>34.0</td>\n",
       "      <td>3.859495</td>\n",
       "    </tr>\n",
       "    <tr>\n",
       "      <th>4</th>\n",
       "      <td>Father of the Bride Part II</td>\n",
       "      <td>5.7</td>\n",
       "      <td>Just when George Banks has recovered from his ...</td>\n",
       "      <td>173.0</td>\n",
       "      <td>8.387519</td>\n",
       "    </tr>\n",
       "  </tbody>\n",
       "</table>\n",
       "</div>"
      ],
      "text/plain": [
       "                         title  vote_average  \\\n",
       "0                    Toy Story           7.7   \n",
       "1                      Jumanji           6.9   \n",
       "2             Grumpier Old Men           6.5   \n",
       "3            Waiting to Exhale           6.1   \n",
       "4  Father of the Bride Part II           5.7   \n",
       "\n",
       "                                            overview  vote_count  popularity  \n",
       "0  Led by Woody, Andy's toys live happily in his ...      5415.0   21.946943  \n",
       "1  When siblings Judy and Peter discover an encha...      2413.0   17.015539  \n",
       "2  A family wedding reignites the ancient feud be...        92.0   11.712900  \n",
       "3  Cheated on, mistreated and stepped on, the wom...        34.0    3.859495  \n",
       "4  Just when George Banks has recovered from his ...       173.0    8.387519  "
      ]
     },
     "execution_count": 3,
     "metadata": {},
     "output_type": "execute_result"
    }
   ],
   "source": [
    "df = pd.read_csv('moviesml.csv')\n",
    "df.head()"
   ]
  },
  {
   "attachments": {},
   "cell_type": "markdown",
   "metadata": {},
   "source": [
    "###### Cálculo de valores estadísticos: Se calculan estadísticas sobre los campos 'vote_count' y 'vote_average'. Se obtiene la media de los valores de 'vote_average' y se almacena en la variableC . Además, se calcula el percentil 0,95 de los valores de 'vote_count' y se almacena en la variable m"
   ]
  },
  {
   "cell_type": "code",
   "execution_count": 4,
   "metadata": {},
   "outputs": [
    {
     "data": {
      "text/plain": [
       "5.250176304654443"
      ]
     },
     "execution_count": 4,
     "metadata": {},
     "output_type": "execute_result"
    }
   ],
   "source": [
    "vote_counts = df[df['vote_count'].notnull()]['vote_count'].astype('int')\n",
    "vote_averages = df[df['vote_average'].notnull()]['vote_average'].astype('int')\n",
    "C = vote_averages.mean()\n",
    "C"
   ]
  },
  {
   "cell_type": "code",
   "execution_count": 5,
   "metadata": {},
   "outputs": [
    {
     "data": {
      "text/plain": [
       "434.0"
      ]
     },
     "execution_count": 5,
     "metadata": {},
     "output_type": "execute_result"
    }
   ],
   "source": [
    "m = vote_counts.quantile(0.95)\n",
    "m"
   ]
  },
  {
   "attachments": {},
   "cell_type": "markdown",
   "metadata": {},
   "source": [
    "###### Filtrado de películas calificadas: Se seleccionan las películas que cumplen ciertos criterios de calificación, como tener un número mínimo de votos ('vote_count' mayor o igual am y tener calificaciones ('vote_average' no nulas). Las columnas 'title', 'vote_count', 'vote_average' y 'popularity' de las películas calificadas se asignan al DataFrame qualified."
   ]
  },
  {
   "cell_type": "code",
   "execution_count": 6,
   "metadata": {},
   "outputs": [
    {
     "data": {
      "text/html": [
       "<div>\n",
       "<style scoped>\n",
       "    .dataframe tbody tr th:only-of-type {\n",
       "        vertical-align: middle;\n",
       "    }\n",
       "\n",
       "    .dataframe tbody tr th {\n",
       "        vertical-align: top;\n",
       "    }\n",
       "\n",
       "    .dataframe thead th {\n",
       "        text-align: right;\n",
       "    }\n",
       "</style>\n",
       "<table border=\"1\" class=\"dataframe\">\n",
       "  <thead>\n",
       "    <tr style=\"text-align: right;\">\n",
       "      <th></th>\n",
       "      <th>title</th>\n",
       "      <th>vote_count</th>\n",
       "      <th>vote_average</th>\n",
       "      <th>overview</th>\n",
       "      <th>popularity</th>\n",
       "    </tr>\n",
       "  </thead>\n",
       "  <tbody>\n",
       "    <tr>\n",
       "      <th>0</th>\n",
       "      <td>Toy Story</td>\n",
       "      <td>5415</td>\n",
       "      <td>7</td>\n",
       "      <td>Led by Woody, Andy's toys live happily in his ...</td>\n",
       "      <td>21.946943</td>\n",
       "    </tr>\n",
       "    <tr>\n",
       "      <th>1</th>\n",
       "      <td>Jumanji</td>\n",
       "      <td>2413</td>\n",
       "      <td>6</td>\n",
       "      <td>When siblings Judy and Peter discover an encha...</td>\n",
       "      <td>17.015539</td>\n",
       "    </tr>\n",
       "    <tr>\n",
       "      <th>5</th>\n",
       "      <td>Heat</td>\n",
       "      <td>1886</td>\n",
       "      <td>7</td>\n",
       "      <td>Obsessive master thief, Neil McCauley leads a ...</td>\n",
       "      <td>17.924927</td>\n",
       "    </tr>\n",
       "    <tr>\n",
       "      <th>9</th>\n",
       "      <td>GoldenEye</td>\n",
       "      <td>1194</td>\n",
       "      <td>6</td>\n",
       "      <td>James Bond must unmask the mysterious head of ...</td>\n",
       "      <td>14.686036</td>\n",
       "    </tr>\n",
       "    <tr>\n",
       "      <th>15</th>\n",
       "      <td>Casino</td>\n",
       "      <td>1343</td>\n",
       "      <td>7</td>\n",
       "      <td>The life of the gambling paradise – Las Vegas ...</td>\n",
       "      <td>10.137389</td>\n",
       "    </tr>\n",
       "  </tbody>\n",
       "</table>\n",
       "</div>"
      ],
      "text/plain": [
       "        title  vote_count  vote_average  \\\n",
       "0   Toy Story        5415             7   \n",
       "1     Jumanji        2413             6   \n",
       "5        Heat        1886             7   \n",
       "9   GoldenEye        1194             6   \n",
       "15     Casino        1343             7   \n",
       "\n",
       "                                             overview  popularity  \n",
       "0   Led by Woody, Andy's toys live happily in his ...   21.946943  \n",
       "1   When siblings Judy and Peter discover an encha...   17.015539  \n",
       "5   Obsessive master thief, Neil McCauley leads a ...   17.924927  \n",
       "9   James Bond must unmask the mysterious head of ...   14.686036  \n",
       "15  The life of the gambling paradise – Las Vegas ...   10.137389  "
      ]
     },
     "execution_count": 6,
     "metadata": {},
     "output_type": "execute_result"
    }
   ],
   "source": [
    "qualified = df[(df['vote_count'] >= m) & (df['vote_count'].notnull()) & (df['vote_average'].notnull())][['title', 'vote_count', 'vote_average', 'overview','popularity']]\n",
    "qualified['vote_count'] = qualified['vote_count'].astype('int')\n",
    "qualified['vote_average'] = qualified['vote_average'].astype('int')\n",
    "qualified.shape\n",
    "qualified.head()"
   ]
  },
  {
   "attachments": {},
   "cell_type": "markdown",
   "metadata": {},
   "source": [
    "##### Cálculo de la puntuación ponderada: Se define la función weighted_rating(x)que calcula la puntuación ponderada para una película dada, utilizando la fórmula específica modificada en el código. Esta función se aplica al DataFramequalified utilizando el método apply(), y los resultados se agregan como una nueva columna llamada 'wr' en el DataFrame qualified."
   ]
  },
  {
   "cell_type": "code",
   "execution_count": 7,
   "metadata": {},
   "outputs": [],
   "source": [
    "\n",
    "def weighted_rating(x):\n",
    "    v = x['vote_count']\n",
    "    R = x['vote_average']\n",
    "    return (v/(v+m) * R) + (m/(m+v) * C)"
   ]
  },
  {
   "cell_type": "code",
   "execution_count": 8,
   "metadata": {},
   "outputs": [],
   "source": [
    "qualified['wr'] = qualified.apply(weighted_rating, axis=1)"
   ]
  },
  {
   "cell_type": "code",
   "execution_count": 9,
   "metadata": {},
   "outputs": [
    {
     "data": {
      "text/html": [
       "<div>\n",
       "<style scoped>\n",
       "    .dataframe tbody tr th:only-of-type {\n",
       "        vertical-align: middle;\n",
       "    }\n",
       "\n",
       "    .dataframe tbody tr th {\n",
       "        vertical-align: top;\n",
       "    }\n",
       "\n",
       "    .dataframe thead th {\n",
       "        text-align: right;\n",
       "    }\n",
       "</style>\n",
       "<table border=\"1\" class=\"dataframe\">\n",
       "  <thead>\n",
       "    <tr style=\"text-align: right;\">\n",
       "      <th></th>\n",
       "      <th>title</th>\n",
       "      <th>vote_count</th>\n",
       "      <th>vote_average</th>\n",
       "      <th>overview</th>\n",
       "      <th>popularity</th>\n",
       "      <th>wr</th>\n",
       "    </tr>\n",
       "  </thead>\n",
       "  <tbody>\n",
       "    <tr>\n",
       "      <th>0</th>\n",
       "      <td>Toy Story</td>\n",
       "      <td>5415</td>\n",
       "      <td>7</td>\n",
       "      <td>Led by Woody, Andy's toys live happily in his ...</td>\n",
       "      <td>21.946943</td>\n",
       "      <td>6.870162</td>\n",
       "    </tr>\n",
       "    <tr>\n",
       "      <th>1</th>\n",
       "      <td>Jumanji</td>\n",
       "      <td>2413</td>\n",
       "      <td>6</td>\n",
       "      <td>When siblings Judy and Peter discover an encha...</td>\n",
       "      <td>17.015539</td>\n",
       "      <td>5.885696</td>\n",
       "    </tr>\n",
       "    <tr>\n",
       "      <th>5</th>\n",
       "      <td>Heat</td>\n",
       "      <td>1886</td>\n",
       "      <td>7</td>\n",
       "      <td>Obsessive master thief, Neil McCauley leads a ...</td>\n",
       "      <td>17.924927</td>\n",
       "      <td>6.672662</td>\n",
       "    </tr>\n",
       "    <tr>\n",
       "      <th>9</th>\n",
       "      <td>GoldenEye</td>\n",
       "      <td>1194</td>\n",
       "      <td>6</td>\n",
       "      <td>James Bond must unmask the mysterious head of ...</td>\n",
       "      <td>14.686036</td>\n",
       "      <td>5.800108</td>\n",
       "    </tr>\n",
       "    <tr>\n",
       "      <th>15</th>\n",
       "      <td>Casino</td>\n",
       "      <td>1343</td>\n",
       "      <td>7</td>\n",
       "      <td>The life of the gambling paradise – Las Vegas ...</td>\n",
       "      <td>10.137389</td>\n",
       "      <td>6.572637</td>\n",
       "    </tr>\n",
       "    <tr>\n",
       "      <th>17</th>\n",
       "      <td>Four Rooms</td>\n",
       "      <td>539</td>\n",
       "      <td>6</td>\n",
       "      <td>It's Ted the Bellhop's first night on the job....</td>\n",
       "      <td>9.026586</td>\n",
       "      <td>5.665546</td>\n",
       "    </tr>\n",
       "    <tr>\n",
       "      <th>18</th>\n",
       "      <td>Ace Ventura: When Nature Calls</td>\n",
       "      <td>1128</td>\n",
       "      <td>6</td>\n",
       "      <td>Summoned from an ashram in Tibet, Ace finds hi...</td>\n",
       "      <td>8.205448</td>\n",
       "      <td>5.791662</td>\n",
       "    </tr>\n",
       "    <tr>\n",
       "      <th>31</th>\n",
       "      <td>Twelve Monkeys</td>\n",
       "      <td>2470</td>\n",
       "      <td>7</td>\n",
       "      <td>In the year 2035, convict James Cole reluctant...</td>\n",
       "      <td>12.297305</td>\n",
       "      <td>6.738491</td>\n",
       "    </tr>\n",
       "    <tr>\n",
       "      <th>33</th>\n",
       "      <td>Babe</td>\n",
       "      <td>756</td>\n",
       "      <td>6</td>\n",
       "      <td>Babe is a little pig who doesn't quite know hi...</td>\n",
       "      <td>14.404764</td>\n",
       "      <td>5.726535</td>\n",
       "    </tr>\n",
       "    <tr>\n",
       "      <th>38</th>\n",
       "      <td>Clueless</td>\n",
       "      <td>828</td>\n",
       "      <td>6</td>\n",
       "      <td>Shallow, rich and socially successful Cher is ...</td>\n",
       "      <td>9.882383</td>\n",
       "      <td>5.742137</td>\n",
       "    </tr>\n",
       "    <tr>\n",
       "      <th>43</th>\n",
       "      <td>Mortal Kombat</td>\n",
       "      <td>452</td>\n",
       "      <td>5</td>\n",
       "      <td>For nine generations an evil sorcerer has been...</td>\n",
       "      <td>10.870138</td>\n",
       "      <td>5.122547</td>\n",
       "    </tr>\n",
       "    <tr>\n",
       "      <th>46</th>\n",
       "      <td>Se7en</td>\n",
       "      <td>5915</td>\n",
       "      <td>8</td>\n",
       "      <td>Two homicide detectives are on a desperate hun...</td>\n",
       "      <td>18.457430</td>\n",
       "      <td>7.812030</td>\n",
       "    </tr>\n",
       "    <tr>\n",
       "      <th>47</th>\n",
       "      <td>Pocahontas</td>\n",
       "      <td>1509</td>\n",
       "      <td>6</td>\n",
       "      <td>History comes gloriously to life in Disney's e...</td>\n",
       "      <td>13.280069</td>\n",
       "      <td>5.832515</td>\n",
       "    </tr>\n",
       "    <tr>\n",
       "      <th>49</th>\n",
       "      <td>The Usual Suspects</td>\n",
       "      <td>3334</td>\n",
       "      <td>8</td>\n",
       "      <td>Held in an L.A. interrogation room, Verbal Kin...</td>\n",
       "      <td>16.302466</td>\n",
       "      <td>7.683274</td>\n",
       "    </tr>\n",
       "    <tr>\n",
       "      <th>68</th>\n",
       "      <td>Friday</td>\n",
       "      <td>513</td>\n",
       "      <td>7</td>\n",
       "      <td>Craig and Smokey are two guys in Los Angeles h...</td>\n",
       "      <td>14.569650</td>\n",
       "      <td>6.198074</td>\n",
       "    </tr>\n",
       "  </tbody>\n",
       "</table>\n",
       "</div>"
      ],
      "text/plain": [
       "                             title  vote_count  vote_average  \\\n",
       "0                        Toy Story        5415             7   \n",
       "1                          Jumanji        2413             6   \n",
       "5                             Heat        1886             7   \n",
       "9                        GoldenEye        1194             6   \n",
       "15                          Casino        1343             7   \n",
       "17                      Four Rooms         539             6   \n",
       "18  Ace Ventura: When Nature Calls        1128             6   \n",
       "31                  Twelve Monkeys        2470             7   \n",
       "33                            Babe         756             6   \n",
       "38                        Clueless         828             6   \n",
       "43                   Mortal Kombat         452             5   \n",
       "46                           Se7en        5915             8   \n",
       "47                      Pocahontas        1509             6   \n",
       "49              The Usual Suspects        3334             8   \n",
       "68                          Friday         513             7   \n",
       "\n",
       "                                             overview  popularity        wr  \n",
       "0   Led by Woody, Andy's toys live happily in his ...   21.946943  6.870162  \n",
       "1   When siblings Judy and Peter discover an encha...   17.015539  5.885696  \n",
       "5   Obsessive master thief, Neil McCauley leads a ...   17.924927  6.672662  \n",
       "9   James Bond must unmask the mysterious head of ...   14.686036  5.800108  \n",
       "15  The life of the gambling paradise – Las Vegas ...   10.137389  6.572637  \n",
       "17  It's Ted the Bellhop's first night on the job....    9.026586  5.665546  \n",
       "18  Summoned from an ashram in Tibet, Ace finds hi...    8.205448  5.791662  \n",
       "31  In the year 2035, convict James Cole reluctant...   12.297305  6.738491  \n",
       "33  Babe is a little pig who doesn't quite know hi...   14.404764  5.726535  \n",
       "38  Shallow, rich and socially successful Cher is ...    9.882383  5.742137  \n",
       "43  For nine generations an evil sorcerer has been...   10.870138  5.122547  \n",
       "46  Two homicide detectives are on a desperate hun...   18.457430  7.812030  \n",
       "47  History comes gloriously to life in Disney's e...   13.280069  5.832515  \n",
       "49  Held in an L.A. interrogation room, Verbal Kin...   16.302466  7.683274  \n",
       "68  Craig and Smokey are two guys in Los Angeles h...   14.569650  6.198074  "
      ]
     },
     "execution_count": 9,
     "metadata": {},
     "output_type": "execute_result"
    }
   ],
   "source": [
    "qualified.head(15) #las mejores peliculas"
   ]
  },
  {
   "attachments": {},
   "cell_type": "markdown",
   "metadata": {},
   "source": [
    "##### Creación de la matriz TF-IDF: Se utiliza la clase TfidfVectorizerde scikit-learn para crear una matriz de término-frecuencia de documento-frecuencia inversa (TF-IDF) a partir de los textos de resumen ('overview') de las películas en el marco de datos qualified. La matriz TF-IDF se asigna a la variable tfidf_matrix"
   ]
  },
  {
   "cell_type": "code",
   "execution_count": 7,
   "metadata": {},
   "outputs": [
    {
     "name": "stdout",
     "output_type": "stream",
     "text": [
      "(2274, 68840)\n"
     ]
    }
   ],
   "source": [
    "from sklearn.feature_extraction.text import TfidfVectorizer\n",
    "tf = TfidfVectorizer(analyzer='word',ngram_range=(1, 2),min_df=0, stop_words='english')\n",
    "tfidf_matrix = tf.fit_transform(qualified['overview'].fillna(''))\n",
    "print(tfidf_matrix.shape)"
   ]
  },
  {
   "attachments": {},
   "cell_type": "markdown",
   "metadata": {},
   "source": [
    "##### Cálculo de la similitud del coseno: Se utiliza la función linear_kernel()de scikit-learn para calcular la similitud del coseno entre las filas de la matriz TF-IDF tfidf_matrix. El resultado se asigna a la variable cosine_sim."
   ]
  },
  {
   "cell_type": "code",
   "execution_count": 8,
   "metadata": {},
   "outputs": [],
   "source": [
    "cosine_sim = linear_kernel(tfidf_matrix, tfidf_matrix)"
   ]
  },
  {
   "attachments": {},
   "cell_type": "markdown",
   "metadata": {},
   "source": [
    "##### Configuración de índices y títulos: Se redefine el índice del DataFrame dfutilizando el método reset_index(). Además, se crea una Serie de pandas indicesque mapea los títulos de las películas llamadas a sus índices correspondientes en el DataFrame."
   ]
  },
  {
   "cell_type": "code",
   "execution_count": 9,
   "metadata": {},
   "outputs": [],
   "source": [
    "df = df.reset_index()\n",
    "titles =df['title']\n",
    "indices = pd.Series(df.index, index=df['title'])"
   ]
  },
  {
   "attachments": {},
   "cell_type": "markdown",
   "metadata": {},
   "source": [
    "##### Definición de la función de recomendación: Se define la función recomendacion(titulo)que toma un título de película como argumento y utiliza la matriz de similitud del coseno cosine_sim, los índicesindices y los títulostitles para recomendar las 5 películas más. La función devuelve una lista de los títulos de las películas recomendadas."
   ]
  },
  {
   "cell_type": "code",
   "execution_count": 10,
   "metadata": {},
   "outputs": [],
   "source": [
    "def recomendacion(titulo):\n",
    "    # Convertimos el título ingresado a minúsculas\n",
    "    titulo = titulo.lower()\n",
    "    \n",
    "    # Creamos un nuevo diccionario con los títulos en minúsculas\n",
    "    indices_lower = {k.lower(): v for k, v in indices.items()}\n",
    "    \n",
    "    # Obtenemos el índice de la película ingresada utilizando el diccionario con los títulos en minúsculas\n",
    "    idx = indices_lower[titulo]\n",
    "    \n",
    "    sim_scores = list(enumerate(cosine_sim[idx]))\n",
    "    sim_scores = sorted(sim_scores, key=lambda x: x[1], reverse=True)\n",
    "    sim_scores = sim_scores[1:6]  # Obtener los 5 puntajes de similitud más altos\n",
    "    movie_indices = [i[0] for i in sim_scores]\n",
    "    top_movies = titles.iloc[movie_indices].tolist()  # Convertir los títulos en una lista de Python\n",
    "    return top_movies"
   ]
  },
  {
   "cell_type": "code",
   "execution_count": 11,
   "metadata": {},
   "outputs": [
    {
     "data": {
      "text/plain": [
       "['M. Butterfly', 'Friday', 'Antz', 'The Pest', \"L'Enfer\"]"
      ]
     },
     "execution_count": 11,
     "metadata": {},
     "output_type": "execute_result"
    }
   ],
   "source": [
    "recomendacion(\"Casino\")"
   ]
  }
 ],
 "metadata": {
  "kernelspec": {
   "display_name": "Python 3",
   "language": "python",
   "name": "python3"
  },
  "language_info": {
   "codemirror_mode": {
    "name": "ipython",
    "version": 3
   },
   "file_extension": ".py",
   "mimetype": "text/x-python",
   "name": "python",
   "nbconvert_exporter": "python",
   "pygments_lexer": "ipython3",
   "version": "3.10.11"
  },
  "orig_nbformat": 4
 },
 "nbformat": 4,
 "nbformat_minor": 2
}
